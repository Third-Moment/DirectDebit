{
 "cells": [
  {
   "cell_type": "markdown",
   "metadata": {
    "deletable": true,
    "editable": true
   },
   "source": [
    "## Direct debit requires that a list of banking services be provided to employees base on:\n",
    "* Thier place of employment\n",
    "* Place of residence\n",
    "\n",
    "This is an effort to automate the delivery of thjat information. For each employee, this script should:\n",
    "1. Provide a list of banking services located within 1 (radial?) mile of their home address\n",
    "2. Provide a map with the location of banking services coresponding to the list above (ennumerated?)\n",
    "3. Provide a list of banking services located within 1 (radial?) mile of their work address\n",
    "4. Provide a map with the location of banking services coresponding to the list above (ennumerated?)\n",
    "\n",
    "For the purposes of this proof of concept, banking services will be defined to include:\n",
    "* Bank branches\n",
    "* ATM machines\n",
    "\n",
    "Assumptions: \n",
    "1. Data will be provided in csv format\n",
    "    * to include:\n",
    "        * Name (First & Last)\n",
    "        * Home Address\n",
    "        * Office location & Address\n",
    "        "
   ]
  },
  {
   "cell_type": "markdown",
   "metadata": {
    "deletable": true,
    "editable": true
   },
   "source": [
    "## Imports\n"
   ]
  },
  {
   "cell_type": "code",
   "execution_count": 30,
   "metadata": {
    "collapsed": false,
    "deletable": true,
    "editable": true
   },
   "outputs": [],
   "source": [
    "#Imports first\n",
    "\n",
    "import os\n",
    "import matplotlib.pyplot as plt\n",
    "import requests\n",
    "import pandas as pd"
   ]
  },
  {
   "cell_type": "markdown",
   "metadata": {},
   "source": [
    "## Convert home address into lat-long"
   ]
  },
  {
   "cell_type": "code",
   "execution_count": null,
   "metadata": {
    "collapsed": true
   },
   "outputs": [],
   "source": []
  },
  {
   "cell_type": "markdown",
   "metadata": {},
   "source": [
    "## Convert office address into lat-long"
   ]
  },
  {
   "cell_type": "code",
   "execution_count": null,
   "metadata": {
    "collapsed": true
   },
   "outputs": [],
   "source": []
  },
  {
   "cell_type": "markdown",
   "metadata": {},
   "source": [
    "## Search for banking services near home"
   ]
  },
  {
   "cell_type": "code",
   "execution_count": null,
   "metadata": {
    "collapsed": true
   },
   "outputs": [],
   "source": []
  },
  {
   "cell_type": "markdown",
   "metadata": {},
   "source": [
    "## Search for banking services near office"
   ]
  },
  {
   "cell_type": "markdown",
   "metadata": {},
   "source": [
    "####  Get API key - stored in file name: gm-config.config"
   ]
  },
  {
   "cell_type": "code",
   "execution_count": 25,
   "metadata": {
    "collapsed": false
   },
   "outputs": [],
   "source": [
    "apikey_path = \"C:/Users/Jonathan/Google Drive/\"\n"
   ]
  },
  {
   "cell_type": "code",
   "execution_count": 29,
   "metadata": {
    "collapsed": false
   },
   "outputs": [],
   "source": [
    "with open(apikey_path + 'gm_config.config', 'r') as f:\n",
    "    api_key = f.readline()\n"
   ]
  },
  {
   "cell_type": "code",
   "execution_count": null,
   "metadata": {
    "collapsed": true
   },
   "outputs": [],
   "source": [
    "place_type = 'atm'\n",
    "near_radius = 1 # in miles\n",
    "keywords = 'bank'\n",
    "search_location = ''\n",
    "KEY = api_key"
   ]
  }
 ],
 "metadata": {
  "kernelspec": {
   "display_name": "Python 3",
   "language": "python",
   "name": "python3"
  },
  "language_info": {
   "codemirror_mode": {
    "name": "ipython",
    "version": 3
   },
   "file_extension": ".py",
   "mimetype": "text/x-python",
   "name": "python",
   "nbconvert_exporter": "python",
   "pygments_lexer": "ipython3",
   "version": "3.6.0"
  }
 },
 "nbformat": 4,
 "nbformat_minor": 2
}
