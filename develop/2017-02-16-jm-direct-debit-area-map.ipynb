{
 "cells": [
  {
   "cell_type": "markdown",
   "metadata": {},
   "source": [
    "## Direct debit requires that a list of banking services be provided to employees base on:\n",
    "* Thier place of employment\n",
    "* Place of residence\n",
    "\n",
    "This is an effort to automate the delivery of thjat information. For each employee, this script should:\n",
    "1. Provide a list of banking services located within 1 (radial?) mile of their home address\n",
    "2. Provide a map with the location of banking services coresponding to the list above (ennumerated?)\n",
    "3. Provide a list of banking services located within 1 (radial?) mile of their work address\n",
    "4. Provide a map with the location of banking services coresponding to the list above (ennumerated?)\n",
    "\n",
    "For the purposes of this proof of concept, banking services will be defined to include:\n",
    "* Bank branches\n",
    "* ATM machines\n",
    "\n",
    "Assumptions: \n",
    "1. Data will be provided in csv format\n",
    "    * to include:\n",
    "        * Name (First & Last)\n",
    "        * Home Address\n",
    "        * Office location & Address\n",
    "        "
   ]
  },
  {
   "cell_type": "markdown",
   "metadata": {},
   "source": [
    "## Imports\n"
   ]
  },
  {
   "cell_type": "code",
   "execution_count": 3,
   "metadata": {
    "collapsed": false,
    "deletable": true,
    "editable": true
   },
   "outputs": [],
   "source": [
    "#Imports first\n",
    "\n",
    "import os\n",
    "import matplotlib.pyplot as plt\n"
   ]
  }
 ],
 "metadata": {
  "kernelspec": {
   "display_name": "Python 3",
   "language": "python",
   "name": "python3"
  },
  "language_info": {
   "codemirror_mode": {
    "name": "ipython",
    "version": 3
   },
   "file_extension": ".py",
   "mimetype": "text/x-python",
   "name": "python",
   "nbconvert_exporter": "python",
   "pygments_lexer": "ipython3",
   "version": "3.6.0"
  }
 },
 "nbformat": 4,
 "nbformat_minor": 2
}
