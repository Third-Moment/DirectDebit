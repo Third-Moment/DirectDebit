{
 "cells": [
  {
   "cell_type": "markdown",
   "metadata": {},
   "source": [
    "Need to create a csv file of sample data to be used in direct debit map project\n",
    "Pulled only ny state address data from:\n",
    "https://openaddresses.io/\n",
    "\n",
    "I will take a random sample of this because it's too big to store.  Plus I want to make sure that the addresses are not all from the same area.\n",
    "\n",
    "Will also need to add some names.  Pulled names from a name generator here:\n",
    "http://homepage.net/name_generator/"
   ]
  },
  {
   "cell_type": "code",
   "execution_count": 14,
   "metadata": {
    "collapsed": true
   },
   "outputs": [],
   "source": [
    "import pandas as pd\n",
    "import random"
   ]
  },
  {
   "cell_type": "markdown",
   "metadata": {},
   "source": [
    "# Address Processing"
   ]
  },
  {
   "cell_type": "code",
   "execution_count": 36,
   "metadata": {
    "collapsed": false
   },
   "outputs": [],
   "source": [
    "addr_file_loc = 'C:/Users/Jonathan/DirectDebit/raw_data/'\n",
    "addr_file_path = file_loc + 'statewide.csv'\n",
    "n = sum(1 for line in open(addr_file_path)) - 1 #number of records in file (excludes header)\n",
    "s = 100\n",
    "skip = sorted(random.sample(range(1,n+1),n-s))\n",
    "df_addr = pd.read_csv(addr_file_path, skiprows=skip)"
   ]
  },
  {
   "cell_type": "code",
   "execution_count": 39,
   "metadata": {
    "collapsed": false
   },
   "outputs": [],
   "source": [
    "df_addr.to_csv('address_clean.csv', sep=',')"
   ]
  },
  {
   "cell_type": "code",
   "execution_count": 40,
   "metadata": {
    "collapsed": false,
    "scrolled": true
   },
   "outputs": [
    {
     "data": {
      "text/html": [
       "<div>\n",
       "<table border=\"1\" class=\"dataframe\">\n",
       "  <thead>\n",
       "    <tr style=\"text-align: right;\">\n",
       "      <th></th>\n",
       "      <th>LON</th>\n",
       "      <th>LAT</th>\n",
       "      <th>NUMBER</th>\n",
       "      <th>STREET</th>\n",
       "      <th>UNIT</th>\n",
       "      <th>CITY</th>\n",
       "      <th>DISTRICT</th>\n",
       "      <th>REGION</th>\n",
       "      <th>POSTCODE</th>\n",
       "      <th>ID</th>\n",
       "      <th>HASH</th>\n",
       "    </tr>\n",
       "  </thead>\n",
       "  <tbody>\n",
       "    <tr>\n",
       "      <th>0</th>\n",
       "      <td>-78.268175</td>\n",
       "      <td>41.999993</td>\n",
       "      <td>231</td>\n",
       "      <td>State Route 417</td>\n",
       "      <td>NaN</td>\n",
       "      <td>Genesee</td>\n",
       "      <td>Allegany</td>\n",
       "      <td>NY</td>\n",
       "      <td>NaN</td>\n",
       "      <td>ALLE015411</td>\n",
       "      <td>7de24a64e25f5a9c</td>\n",
       "    </tr>\n",
       "    <tr>\n",
       "      <th>1</th>\n",
       "      <td>-78.957996</td>\n",
       "      <td>42.335671</td>\n",
       "      <td>7785</td>\n",
       "      <td>Mosher Hollow Road</td>\n",
       "      <td>NaN</td>\n",
       "      <td>Leon</td>\n",
       "      <td>Cattaraugus</td>\n",
       "      <td>NY</td>\n",
       "      <td>NaN</td>\n",
       "      <td>CATT032886</td>\n",
       "      <td>a441fcddf181fd56</td>\n",
       "    </tr>\n",
       "    <tr>\n",
       "      <th>2</th>\n",
       "      <td>-78.638224</td>\n",
       "      <td>42.414260</td>\n",
       "      <td>9591</td>\n",
       "      <td>Stady Road</td>\n",
       "      <td>NaN</td>\n",
       "      <td>Ashford</td>\n",
       "      <td>Cattaraugus</td>\n",
       "      <td>NY</td>\n",
       "      <td>NaN</td>\n",
       "      <td>CATT033515</td>\n",
       "      <td>10998098516d504d</td>\n",
       "    </tr>\n",
       "    <tr>\n",
       "      <th>3</th>\n",
       "      <td>-76.537013</td>\n",
       "      <td>42.109870</td>\n",
       "      <td>158</td>\n",
       "      <td>Dean Creek Road</td>\n",
       "      <td>Lot 1</td>\n",
       "      <td>Barton</td>\n",
       "      <td>Tioga</td>\n",
       "      <td>NY</td>\n",
       "      <td>NaN</td>\n",
       "      <td>TIOG025428</td>\n",
       "      <td>08503b1194162de2</td>\n",
       "    </tr>\n",
       "    <tr>\n",
       "      <th>4</th>\n",
       "      <td>-76.822009</td>\n",
       "      <td>42.155956</td>\n",
       "      <td>2149</td>\n",
       "      <td>Grand Central Avenue</td>\n",
       "      <td>NaN</td>\n",
       "      <td>Horseheads</td>\n",
       "      <td>Chemung</td>\n",
       "      <td>NY</td>\n",
       "      <td>NaN</td>\n",
       "      <td>CHEM003932</td>\n",
       "      <td>a96782ac238d35a1</td>\n",
       "    </tr>\n",
       "  </tbody>\n",
       "</table>\n",
       "</div>"
      ],
      "text/plain": [
       "         LON        LAT NUMBER                STREET   UNIT        CITY  \\\n",
       "0 -78.268175  41.999993    231       State Route 417    NaN     Genesee   \n",
       "1 -78.957996  42.335671   7785    Mosher Hollow Road    NaN        Leon   \n",
       "2 -78.638224  42.414260   9591            Stady Road    NaN     Ashford   \n",
       "3 -76.537013  42.109870    158       Dean Creek Road  Lot 1      Barton   \n",
       "4 -76.822009  42.155956   2149  Grand Central Avenue    NaN  Horseheads   \n",
       "\n",
       "      DISTRICT REGION  POSTCODE          ID              HASH  \n",
       "0     Allegany     NY       NaN  ALLE015411  7de24a64e25f5a9c  \n",
       "1  Cattaraugus     NY       NaN  CATT032886  a441fcddf181fd56  \n",
       "2  Cattaraugus     NY       NaN  CATT033515  10998098516d504d  \n",
       "3        Tioga     NY       NaN  TIOG025428  08503b1194162de2  \n",
       "4      Chemung     NY       NaN  CHEM003932  a96782ac238d35a1  "
      ]
     },
     "execution_count": 40,
     "metadata": {},
     "output_type": "execute_result"
    }
   ],
   "source": [
    "df_addr.head()"
   ]
  },
  {
   "cell_type": "markdown",
   "metadata": {},
   "source": [
    "# Name Processing"
   ]
  },
  {
   "cell_type": "code",
   "execution_count": 45,
   "metadata": {
    "collapsed": true
   },
   "outputs": [],
   "source": [
    "name_file_loc = 'C:/Users/Jonathan/DirectDebit/data/'\n",
    "name_file_path = name_file_loc + 'names_clean.csv'"
   ]
  },
  {
   "cell_type": "code",
   "execution_count": 46,
   "metadata": {
    "collapsed": false
   },
   "outputs": [],
   "source": [
    "df_name = pd.read_csv(name_file_path)"
   ]
  },
  {
   "cell_type": "code",
   "execution_count": 47,
   "metadata": {
    "collapsed": false
   },
   "outputs": [
    {
     "data": {
      "text/html": [
       "<div>\n",
       "<table border=\"1\" class=\"dataframe\">\n",
       "  <thead>\n",
       "    <tr style=\"text-align: right;\">\n",
       "      <th></th>\n",
       "      <th>First_name</th>\n",
       "      <th>Last_name</th>\n",
       "      <th>Email</th>\n",
       "    </tr>\n",
       "  </thead>\n",
       "  <tbody>\n",
       "    <tr>\n",
       "      <th>0</th>\n",
       "      <td>Brandon</td>\n",
       "      <td>Newman</td>\n",
       "      <td>brandon.newman@directdebitsample.com</td>\n",
       "    </tr>\n",
       "    <tr>\n",
       "      <th>1</th>\n",
       "      <td>Dominic</td>\n",
       "      <td>Pullman</td>\n",
       "      <td>dominic.pullman@directdebitsample.com</td>\n",
       "    </tr>\n",
       "    <tr>\n",
       "      <th>2</th>\n",
       "      <td>Oliver</td>\n",
       "      <td>Murray</td>\n",
       "      <td>oliver.murray@directdebitsample.com</td>\n",
       "    </tr>\n",
       "    <tr>\n",
       "      <th>3</th>\n",
       "      <td>Rebecca</td>\n",
       "      <td>Tucker</td>\n",
       "      <td>rebecca.tucker@directdebitsample.com</td>\n",
       "    </tr>\n",
       "    <tr>\n",
       "      <th>4</th>\n",
       "      <td>Boris</td>\n",
       "      <td>Metcalfe</td>\n",
       "      <td>boris.metcalfe@directdebitsample.com</td>\n",
       "    </tr>\n",
       "  </tbody>\n",
       "</table>\n",
       "</div>"
      ],
      "text/plain": [
       "  First_name Last_name                                  Email\n",
       "0    Brandon    Newman   brandon.newman@directdebitsample.com\n",
       "1    Dominic   Pullman  dominic.pullman@directdebitsample.com\n",
       "2     Oliver    Murray    oliver.murray@directdebitsample.com\n",
       "3    Rebecca    Tucker   rebecca.tucker@directdebitsample.com\n",
       "4      Boris  Metcalfe   boris.metcalfe@directdebitsample.com"
      ]
     },
     "execution_count": 47,
     "metadata": {},
     "output_type": "execute_result"
    }
   ],
   "source": [
    "df_name.head()"
   ]
  },
  {
   "cell_type": "markdown",
   "metadata": {},
   "source": [
    "# Combine names & addresses and save to folder"
   ]
  },
  {
   "cell_type": "code",
   "execution_count": 48,
   "metadata": {
    "collapsed": true
   },
   "outputs": [],
   "source": [
    "df_final_clean =pd.concat([df_name, df_addr], axis=1)"
   ]
  },
  {
   "cell_type": "code",
   "execution_count": 49,
   "metadata": {
    "collapsed": false
   },
   "outputs": [
    {
     "data": {
      "text/html": [
       "<div>\n",
       "<table border=\"1\" class=\"dataframe\">\n",
       "  <thead>\n",
       "    <tr style=\"text-align: right;\">\n",
       "      <th></th>\n",
       "      <th>First_name</th>\n",
       "      <th>Last_name</th>\n",
       "      <th>Email</th>\n",
       "      <th>LON</th>\n",
       "      <th>LAT</th>\n",
       "      <th>NUMBER</th>\n",
       "      <th>STREET</th>\n",
       "      <th>UNIT</th>\n",
       "      <th>CITY</th>\n",
       "      <th>DISTRICT</th>\n",
       "      <th>REGION</th>\n",
       "      <th>POSTCODE</th>\n",
       "      <th>ID</th>\n",
       "      <th>HASH</th>\n",
       "    </tr>\n",
       "  </thead>\n",
       "  <tbody>\n",
       "    <tr>\n",
       "      <th>0</th>\n",
       "      <td>Brandon</td>\n",
       "      <td>Newman</td>\n",
       "      <td>brandon.newman@directdebitsample.com</td>\n",
       "      <td>-78.268175</td>\n",
       "      <td>41.999993</td>\n",
       "      <td>231</td>\n",
       "      <td>State Route 417</td>\n",
       "      <td>NaN</td>\n",
       "      <td>Genesee</td>\n",
       "      <td>Allegany</td>\n",
       "      <td>NY</td>\n",
       "      <td>NaN</td>\n",
       "      <td>ALLE015411</td>\n",
       "      <td>7de24a64e25f5a9c</td>\n",
       "    </tr>\n",
       "    <tr>\n",
       "      <th>1</th>\n",
       "      <td>Dominic</td>\n",
       "      <td>Pullman</td>\n",
       "      <td>dominic.pullman@directdebitsample.com</td>\n",
       "      <td>-78.957996</td>\n",
       "      <td>42.335671</td>\n",
       "      <td>7785</td>\n",
       "      <td>Mosher Hollow Road</td>\n",
       "      <td>NaN</td>\n",
       "      <td>Leon</td>\n",
       "      <td>Cattaraugus</td>\n",
       "      <td>NY</td>\n",
       "      <td>NaN</td>\n",
       "      <td>CATT032886</td>\n",
       "      <td>a441fcddf181fd56</td>\n",
       "    </tr>\n",
       "    <tr>\n",
       "      <th>2</th>\n",
       "      <td>Oliver</td>\n",
       "      <td>Murray</td>\n",
       "      <td>oliver.murray@directdebitsample.com</td>\n",
       "      <td>-78.638224</td>\n",
       "      <td>42.414260</td>\n",
       "      <td>9591</td>\n",
       "      <td>Stady Road</td>\n",
       "      <td>NaN</td>\n",
       "      <td>Ashford</td>\n",
       "      <td>Cattaraugus</td>\n",
       "      <td>NY</td>\n",
       "      <td>NaN</td>\n",
       "      <td>CATT033515</td>\n",
       "      <td>10998098516d504d</td>\n",
       "    </tr>\n",
       "    <tr>\n",
       "      <th>3</th>\n",
       "      <td>Rebecca</td>\n",
       "      <td>Tucker</td>\n",
       "      <td>rebecca.tucker@directdebitsample.com</td>\n",
       "      <td>-76.537013</td>\n",
       "      <td>42.109870</td>\n",
       "      <td>158</td>\n",
       "      <td>Dean Creek Road</td>\n",
       "      <td>Lot 1</td>\n",
       "      <td>Barton</td>\n",
       "      <td>Tioga</td>\n",
       "      <td>NY</td>\n",
       "      <td>NaN</td>\n",
       "      <td>TIOG025428</td>\n",
       "      <td>08503b1194162de2</td>\n",
       "    </tr>\n",
       "    <tr>\n",
       "      <th>4</th>\n",
       "      <td>Boris</td>\n",
       "      <td>Metcalfe</td>\n",
       "      <td>boris.metcalfe@directdebitsample.com</td>\n",
       "      <td>-76.822009</td>\n",
       "      <td>42.155956</td>\n",
       "      <td>2149</td>\n",
       "      <td>Grand Central Avenue</td>\n",
       "      <td>NaN</td>\n",
       "      <td>Horseheads</td>\n",
       "      <td>Chemung</td>\n",
       "      <td>NY</td>\n",
       "      <td>NaN</td>\n",
       "      <td>CHEM003932</td>\n",
       "      <td>a96782ac238d35a1</td>\n",
       "    </tr>\n",
       "  </tbody>\n",
       "</table>\n",
       "</div>"
      ],
      "text/plain": [
       "  First_name Last_name                                  Email        LON  \\\n",
       "0    Brandon    Newman   brandon.newman@directdebitsample.com -78.268175   \n",
       "1    Dominic   Pullman  dominic.pullman@directdebitsample.com -78.957996   \n",
       "2     Oliver    Murray    oliver.murray@directdebitsample.com -78.638224   \n",
       "3    Rebecca    Tucker   rebecca.tucker@directdebitsample.com -76.537013   \n",
       "4      Boris  Metcalfe   boris.metcalfe@directdebitsample.com -76.822009   \n",
       "\n",
       "         LAT NUMBER                STREET   UNIT        CITY     DISTRICT  \\\n",
       "0  41.999993    231       State Route 417    NaN     Genesee     Allegany   \n",
       "1  42.335671   7785    Mosher Hollow Road    NaN        Leon  Cattaraugus   \n",
       "2  42.414260   9591            Stady Road    NaN     Ashford  Cattaraugus   \n",
       "3  42.109870    158       Dean Creek Road  Lot 1      Barton        Tioga   \n",
       "4  42.155956   2149  Grand Central Avenue    NaN  Horseheads      Chemung   \n",
       "\n",
       "  REGION  POSTCODE          ID              HASH  \n",
       "0     NY       NaN  ALLE015411  7de24a64e25f5a9c  \n",
       "1     NY       NaN  CATT032886  a441fcddf181fd56  \n",
       "2     NY       NaN  CATT033515  10998098516d504d  \n",
       "3     NY       NaN  TIOG025428  08503b1194162de2  \n",
       "4     NY       NaN  CHEM003932  a96782ac238d35a1  "
      ]
     },
     "execution_count": 49,
     "metadata": {},
     "output_type": "execute_result"
    }
   ],
   "source": [
    "df_final_clean.head()"
   ]
  },
  {
   "cell_type": "code",
   "execution_count": 50,
   "metadata": {
    "collapsed": true
   },
   "outputs": [],
   "source": [
    "df_final_clean.to_csv('direct_debit_clean.csv', sep=',')"
   ]
  }
 ],
 "metadata": {
  "kernelspec": {
   "display_name": "Python 3",
   "language": "python",
   "name": "python3"
  },
  "language_info": {
   "codemirror_mode": {
    "name": "ipython",
    "version": 3
   },
   "file_extension": ".py",
   "mimetype": "text/x-python",
   "name": "python",
   "nbconvert_exporter": "python",
   "pygments_lexer": "ipython3",
   "version": "3.6.0"
  }
 },
 "nbformat": 4,
 "nbformat_minor": 2
}
