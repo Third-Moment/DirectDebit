{
 "cells": [
  {
   "cell_type": "markdown",
   "metadata": {
    "deletable": true,
    "editable": true
   },
   "source": [
    "Need to create a csv file of sample data to be used in direct debit map project\n",
    "Pulled only ny state address data from:\n",
    "https://openaddresses.io/\n",
    "\n",
    "I will take a random sample of this because it's too big to store.  Plus I want to make sure that the addresses are not all from the same area.\n",
    "\n",
    "Will also need to add some names.  Pulled names from a name generator here:\n",
    "http://homepage.net/name_generator/"
   ]
  },
  {
   "cell_type": "code",
   "execution_count": 34,
   "metadata": {
    "collapsed": true,
    "deletable": true,
    "editable": true
   },
   "outputs": [],
   "source": [
    "import pandas as pd\n",
    "import random"
   ]
  },
  {
   "cell_type": "markdown",
   "metadata": {
    "deletable": true,
    "editable": true
   },
   "source": [
    "# Address Processing"
   ]
  },
  {
   "cell_type": "code",
   "execution_count": 35,
   "metadata": {
    "collapsed": false,
    "deletable": true,
    "editable": true
   },
   "outputs": [],
   "source": [
    "addr_file_loc = 'C:/Users/Jonathan/DirectDebit/raw_data/'\n",
    "addr_file_path = addr_file_loc + 'statewide.csv'\n",
    "ouput_loc = 'C:/Users/Jonathan/DirectDebit/data/'\n",
    "\n",
    "n = sum(1 for line in open(addr_file_path)) - 1 #number of records in file (excludes header)\n",
    "s = 100\n",
    "skip = sorted(random.sample(range(1,n+1),n-s))\n",
    "df_addr = pd.read_csv(addr_file_path, skiprows=skip)"
   ]
  },
  {
   "cell_type": "code",
   "execution_count": 36,
   "metadata": {
    "collapsed": false,
    "deletable": true,
    "editable": true
   },
   "outputs": [],
   "source": [
    "df_addr.to_csv(ouput_loc + 'address_clean.csv', sep=',')"
   ]
  },
  {
   "cell_type": "code",
   "execution_count": 37,
   "metadata": {
    "collapsed": false,
    "deletable": true,
    "editable": true,
    "scrolled": true
   },
   "outputs": [
    {
     "data": {
      "text/html": [
       "<div>\n",
       "<table border=\"1\" class=\"dataframe\">\n",
       "  <thead>\n",
       "    <tr style=\"text-align: right;\">\n",
       "      <th></th>\n",
       "      <th>LON</th>\n",
       "      <th>LAT</th>\n",
       "      <th>NUMBER</th>\n",
       "      <th>STREET</th>\n",
       "      <th>UNIT</th>\n",
       "      <th>CITY</th>\n",
       "      <th>DISTRICT</th>\n",
       "      <th>REGION</th>\n",
       "      <th>POSTCODE</th>\n",
       "      <th>ID</th>\n",
       "      <th>HASH</th>\n",
       "    </tr>\n",
       "  </thead>\n",
       "  <tbody>\n",
       "    <tr>\n",
       "      <th>0</th>\n",
       "      <td>-77.716978</td>\n",
       "      <td>42.723047</td>\n",
       "      <td>6135</td>\n",
       "      <td>West Lake Road</td>\n",
       "      <td>NaN</td>\n",
       "      <td>Groveland</td>\n",
       "      <td>Livingston</td>\n",
       "      <td>NY</td>\n",
       "      <td>NaN</td>\n",
       "      <td>LIVI017568</td>\n",
       "      <td>b1632818c3836c3b</td>\n",
       "    </tr>\n",
       "    <tr>\n",
       "      <th>1</th>\n",
       "      <td>-77.603544</td>\n",
       "      <td>42.364774</td>\n",
       "      <td>2258</td>\n",
       "      <td>County Route 70A</td>\n",
       "      <td>NaN</td>\n",
       "      <td>Fremont</td>\n",
       "      <td>Steuben</td>\n",
       "      <td>NY</td>\n",
       "      <td>NaN</td>\n",
       "      <td>STEU023552</td>\n",
       "      <td>ce11d7ab023c7fcc</td>\n",
       "    </tr>\n",
       "    <tr>\n",
       "      <th>2</th>\n",
       "      <td>-76.495152</td>\n",
       "      <td>42.455408</td>\n",
       "      <td>509</td>\n",
       "      <td>Lake Street</td>\n",
       "      <td>Unit E6</td>\n",
       "      <td>Ithaca</td>\n",
       "      <td>Tompkins</td>\n",
       "      <td>NY</td>\n",
       "      <td>NaN</td>\n",
       "      <td>TOMP038695</td>\n",
       "      <td>00089082814cdd76</td>\n",
       "    </tr>\n",
       "    <tr>\n",
       "      <th>3</th>\n",
       "      <td>-77.650426</td>\n",
       "      <td>43.212123</td>\n",
       "      <td>3</td>\n",
       "      <td>Bonesteel Circle</td>\n",
       "      <td>Unit 3</td>\n",
       "      <td>Greece</td>\n",
       "      <td>Monroe</td>\n",
       "      <td>NY</td>\n",
       "      <td>NaN</td>\n",
       "      <td>MONR313161</td>\n",
       "      <td>b5f812a2285596b3</td>\n",
       "    </tr>\n",
       "    <tr>\n",
       "      <th>4</th>\n",
       "      <td>-77.618886</td>\n",
       "      <td>43.237209</td>\n",
       "      <td>222</td>\n",
       "      <td>Afton Street</td>\n",
       "      <td>NaN</td>\n",
       "      <td>Rochester</td>\n",
       "      <td>Monroe</td>\n",
       "      <td>NY</td>\n",
       "      <td>NaN</td>\n",
       "      <td>MONR049265</td>\n",
       "      <td>f66d324ff7ad33cc</td>\n",
       "    </tr>\n",
       "  </tbody>\n",
       "</table>\n",
       "</div>"
      ],
      "text/plain": [
       "         LON        LAT NUMBER            STREET     UNIT       CITY  \\\n",
       "0 -77.716978  42.723047   6135    West Lake Road      NaN  Groveland   \n",
       "1 -77.603544  42.364774   2258  County Route 70A      NaN    Fremont   \n",
       "2 -76.495152  42.455408    509       Lake Street  Unit E6     Ithaca   \n",
       "3 -77.650426  43.212123      3  Bonesteel Circle   Unit 3     Greece   \n",
       "4 -77.618886  43.237209    222      Afton Street      NaN  Rochester   \n",
       "\n",
       "     DISTRICT REGION  POSTCODE          ID              HASH  \n",
       "0  Livingston     NY       NaN  LIVI017568  b1632818c3836c3b  \n",
       "1     Steuben     NY       NaN  STEU023552  ce11d7ab023c7fcc  \n",
       "2    Tompkins     NY       NaN  TOMP038695  00089082814cdd76  \n",
       "3      Monroe     NY       NaN  MONR313161  b5f812a2285596b3  \n",
       "4      Monroe     NY       NaN  MONR049265  f66d324ff7ad33cc  "
      ]
     },
     "execution_count": 37,
     "metadata": {},
     "output_type": "execute_result"
    }
   ],
   "source": [
    "df_addr.head()"
   ]
  },
  {
   "cell_type": "markdown",
   "metadata": {
    "deletable": true,
    "editable": true
   },
   "source": [
    "# Name Processing"
   ]
  },
  {
   "cell_type": "code",
   "execution_count": 38,
   "metadata": {
    "collapsed": true,
    "deletable": true,
    "editable": true
   },
   "outputs": [],
   "source": [
    "name_file_loc = 'C:/Users/Jonathan/DirectDebit/data/'\n",
    "name_file_path = name_file_loc + 'names_clean.csv'"
   ]
  },
  {
   "cell_type": "code",
   "execution_count": 39,
   "metadata": {
    "collapsed": false,
    "deletable": true,
    "editable": true
   },
   "outputs": [],
   "source": [
    "df_name = pd.read_csv(name_file_path)"
   ]
  },
  {
   "cell_type": "code",
   "execution_count": 40,
   "metadata": {
    "collapsed": false,
    "deletable": true,
    "editable": true
   },
   "outputs": [
    {
     "data": {
      "text/html": [
       "<div>\n",
       "<table border=\"1\" class=\"dataframe\">\n",
       "  <thead>\n",
       "    <tr style=\"text-align: right;\">\n",
       "      <th></th>\n",
       "      <th>First_name</th>\n",
       "      <th>Last_name</th>\n",
       "      <th>Email</th>\n",
       "    </tr>\n",
       "  </thead>\n",
       "  <tbody>\n",
       "    <tr>\n",
       "      <th>0</th>\n",
       "      <td>Brandon</td>\n",
       "      <td>Newman</td>\n",
       "      <td>brandon.newman@directdebitsample.com</td>\n",
       "    </tr>\n",
       "    <tr>\n",
       "      <th>1</th>\n",
       "      <td>Dominic</td>\n",
       "      <td>Pullman</td>\n",
       "      <td>dominic.pullman@directdebitsample.com</td>\n",
       "    </tr>\n",
       "    <tr>\n",
       "      <th>2</th>\n",
       "      <td>Oliver</td>\n",
       "      <td>Murray</td>\n",
       "      <td>oliver.murray@directdebitsample.com</td>\n",
       "    </tr>\n",
       "    <tr>\n",
       "      <th>3</th>\n",
       "      <td>Rebecca</td>\n",
       "      <td>Tucker</td>\n",
       "      <td>rebecca.tucker@directdebitsample.com</td>\n",
       "    </tr>\n",
       "    <tr>\n",
       "      <th>4</th>\n",
       "      <td>Boris</td>\n",
       "      <td>Metcalfe</td>\n",
       "      <td>boris.metcalfe@directdebitsample.com</td>\n",
       "    </tr>\n",
       "  </tbody>\n",
       "</table>\n",
       "</div>"
      ],
      "text/plain": [
       "  First_name Last_name                                  Email\n",
       "0    Brandon    Newman   brandon.newman@directdebitsample.com\n",
       "1    Dominic   Pullman  dominic.pullman@directdebitsample.com\n",
       "2     Oliver    Murray    oliver.murray@directdebitsample.com\n",
       "3    Rebecca    Tucker   rebecca.tucker@directdebitsample.com\n",
       "4      Boris  Metcalfe   boris.metcalfe@directdebitsample.com"
      ]
     },
     "execution_count": 40,
     "metadata": {},
     "output_type": "execute_result"
    }
   ],
   "source": [
    "df_name.head()"
   ]
  },
  {
   "cell_type": "markdown",
   "metadata": {},
   "source": [
    "## Office location processing"
   ]
  },
  {
   "cell_type": "code",
   "execution_count": 43,
   "metadata": {
    "collapsed": false
   },
   "outputs": [],
   "source": [
    "office_file_loc = 'C:/Users/Jonathan/DirectDebit/raw_data/'\n",
    "office_file_path = office_file_loc + 'statewide.csv'\n",
    "n = sum(1 for line in open(addr_file_path)) - 1 #number of records in file (excludes header)\n",
    "s = 100\n",
    "skip = sorted(random.sample(range(1,n+1),n-s))\n",
    "df_office = pd.read_csv(office_file_path, skiprows=skip)"
   ]
  },
  {
   "cell_type": "code",
   "execution_count": 44,
   "metadata": {
    "collapsed": false
   },
   "outputs": [
    {
     "data": {
      "text/plain": [
       "['LON',\n",
       " 'LAT',\n",
       " 'NUMBER',\n",
       " 'STREET',\n",
       " 'UNIT',\n",
       " 'CITY',\n",
       " 'DISTRICT',\n",
       " 'REGION',\n",
       " 'POSTCODE',\n",
       " 'ID',\n",
       " 'HASH']"
      ]
     },
     "execution_count": 44,
     "metadata": {},
     "output_type": "execute_result"
    }
   ],
   "source": [
    "list(df_office)"
   ]
  },
  {
   "cell_type": "code",
   "execution_count": 45,
   "metadata": {
    "collapsed": false
   },
   "outputs": [
    {
     "data": {
      "text/html": [
       "<div>\n",
       "<table border=\"1\" class=\"dataframe\">\n",
       "  <thead>\n",
       "    <tr style=\"text-align: right;\">\n",
       "      <th></th>\n",
       "      <th>OFFICE_NUMBER</th>\n",
       "      <th>OFFICE_STREET</th>\n",
       "      <th>OFFICE_CITY</th>\n",
       "      <th>OFFICE_POSTCODE</th>\n",
       "    </tr>\n",
       "  </thead>\n",
       "  <tbody>\n",
       "    <tr>\n",
       "      <th>0</th>\n",
       "      <td>311</td>\n",
       "      <td>East Connell Street</td>\n",
       "      <td>Olean</td>\n",
       "      <td>NaN</td>\n",
       "    </tr>\n",
       "    <tr>\n",
       "      <th>1</th>\n",
       "      <td>179</td>\n",
       "      <td>Newman Street</td>\n",
       "      <td>Concord</td>\n",
       "      <td>NaN</td>\n",
       "    </tr>\n",
       "    <tr>\n",
       "      <th>2</th>\n",
       "      <td>9477</td>\n",
       "      <td>Foster Wheeler Road</td>\n",
       "      <td>North Dansville</td>\n",
       "      <td>NaN</td>\n",
       "    </tr>\n",
       "    <tr>\n",
       "      <th>3</th>\n",
       "      <td>1140</td>\n",
       "      <td>Sullivan Street</td>\n",
       "      <td>Elmira</td>\n",
       "      <td>NaN</td>\n",
       "    </tr>\n",
       "    <tr>\n",
       "      <th>4</th>\n",
       "      <td>231</td>\n",
       "      <td>Pritchard Avenue</td>\n",
       "      <td>Corning</td>\n",
       "      <td>NaN</td>\n",
       "    </tr>\n",
       "  </tbody>\n",
       "</table>\n",
       "</div>"
      ],
      "text/plain": [
       "  OFFICE_NUMBER        OFFICE_STREET      OFFICE_CITY  OFFICE_POSTCODE\n",
       "0           311  East Connell Street            Olean              NaN\n",
       "1           179        Newman Street          Concord              NaN\n",
       "2          9477  Foster Wheeler Road  North Dansville              NaN\n",
       "3          1140      Sullivan Street           Elmira              NaN\n",
       "4           231     Pritchard Avenue          Corning              NaN"
      ]
     },
     "execution_count": 45,
     "metadata": {},
     "output_type": "execute_result"
    }
   ],
   "source": [
    "df_office = df_office[[\"NUMBER\", \"STREET\", \"CITY\", \"POSTCODE\"]]\n",
    "df_office.columns = [\"OFFICE_NUMBER\", \"OFFICE_STREET\", \"OFFICE_CITY\", \"OFFICE_POSTCODE\"]\n",
    "df_office.head()"
   ]
  },
  {
   "cell_type": "markdown",
   "metadata": {
    "deletable": true,
    "editable": true
   },
   "source": [
    "# Combine names, addresses, and office locations and save to folder"
   ]
  },
  {
   "cell_type": "code",
   "execution_count": 47,
   "metadata": {
    "collapsed": true,
    "deletable": true,
    "editable": true
   },
   "outputs": [],
   "source": [
    "df_final_clean =pd.concat([df_name, df_addr, df_office], axis=1)"
   ]
  },
  {
   "cell_type": "code",
   "execution_count": 48,
   "metadata": {
    "collapsed": false,
    "deletable": true,
    "editable": true
   },
   "outputs": [
    {
     "data": {
      "text/html": [
       "<div>\n",
       "<table border=\"1\" class=\"dataframe\">\n",
       "  <thead>\n",
       "    <tr style=\"text-align: right;\">\n",
       "      <th></th>\n",
       "      <th>First_name</th>\n",
       "      <th>Last_name</th>\n",
       "      <th>Email</th>\n",
       "      <th>LON</th>\n",
       "      <th>LAT</th>\n",
       "      <th>NUMBER</th>\n",
       "      <th>STREET</th>\n",
       "      <th>UNIT</th>\n",
       "      <th>CITY</th>\n",
       "      <th>DISTRICT</th>\n",
       "      <th>REGION</th>\n",
       "      <th>POSTCODE</th>\n",
       "      <th>ID</th>\n",
       "      <th>HASH</th>\n",
       "      <th>OFFICE_NUMBER</th>\n",
       "      <th>OFFICE_STREET</th>\n",
       "      <th>OFFICE_CITY</th>\n",
       "      <th>OFFICE_POSTCODE</th>\n",
       "    </tr>\n",
       "  </thead>\n",
       "  <tbody>\n",
       "    <tr>\n",
       "      <th>0</th>\n",
       "      <td>Brandon</td>\n",
       "      <td>Newman</td>\n",
       "      <td>brandon.newman@directdebitsample.com</td>\n",
       "      <td>-77.716978</td>\n",
       "      <td>42.723047</td>\n",
       "      <td>6135</td>\n",
       "      <td>West Lake Road</td>\n",
       "      <td>NaN</td>\n",
       "      <td>Groveland</td>\n",
       "      <td>Livingston</td>\n",
       "      <td>NY</td>\n",
       "      <td>NaN</td>\n",
       "      <td>LIVI017568</td>\n",
       "      <td>b1632818c3836c3b</td>\n",
       "      <td>311</td>\n",
       "      <td>East Connell Street</td>\n",
       "      <td>Olean</td>\n",
       "      <td>NaN</td>\n",
       "    </tr>\n",
       "    <tr>\n",
       "      <th>1</th>\n",
       "      <td>Dominic</td>\n",
       "      <td>Pullman</td>\n",
       "      <td>dominic.pullman@directdebitsample.com</td>\n",
       "      <td>-77.603544</td>\n",
       "      <td>42.364774</td>\n",
       "      <td>2258</td>\n",
       "      <td>County Route 70A</td>\n",
       "      <td>NaN</td>\n",
       "      <td>Fremont</td>\n",
       "      <td>Steuben</td>\n",
       "      <td>NY</td>\n",
       "      <td>NaN</td>\n",
       "      <td>STEU023552</td>\n",
       "      <td>ce11d7ab023c7fcc</td>\n",
       "      <td>179</td>\n",
       "      <td>Newman Street</td>\n",
       "      <td>Concord</td>\n",
       "      <td>NaN</td>\n",
       "    </tr>\n",
       "    <tr>\n",
       "      <th>2</th>\n",
       "      <td>Oliver</td>\n",
       "      <td>Murray</td>\n",
       "      <td>oliver.murray@directdebitsample.com</td>\n",
       "      <td>-76.495152</td>\n",
       "      <td>42.455408</td>\n",
       "      <td>509</td>\n",
       "      <td>Lake Street</td>\n",
       "      <td>Unit E6</td>\n",
       "      <td>Ithaca</td>\n",
       "      <td>Tompkins</td>\n",
       "      <td>NY</td>\n",
       "      <td>NaN</td>\n",
       "      <td>TOMP038695</td>\n",
       "      <td>00089082814cdd76</td>\n",
       "      <td>9477</td>\n",
       "      <td>Foster Wheeler Road</td>\n",
       "      <td>North Dansville</td>\n",
       "      <td>NaN</td>\n",
       "    </tr>\n",
       "    <tr>\n",
       "      <th>3</th>\n",
       "      <td>Rebecca</td>\n",
       "      <td>Tucker</td>\n",
       "      <td>rebecca.tucker@directdebitsample.com</td>\n",
       "      <td>-77.650426</td>\n",
       "      <td>43.212123</td>\n",
       "      <td>3</td>\n",
       "      <td>Bonesteel Circle</td>\n",
       "      <td>Unit 3</td>\n",
       "      <td>Greece</td>\n",
       "      <td>Monroe</td>\n",
       "      <td>NY</td>\n",
       "      <td>NaN</td>\n",
       "      <td>MONR313161</td>\n",
       "      <td>b5f812a2285596b3</td>\n",
       "      <td>1140</td>\n",
       "      <td>Sullivan Street</td>\n",
       "      <td>Elmira</td>\n",
       "      <td>NaN</td>\n",
       "    </tr>\n",
       "    <tr>\n",
       "      <th>4</th>\n",
       "      <td>Boris</td>\n",
       "      <td>Metcalfe</td>\n",
       "      <td>boris.metcalfe@directdebitsample.com</td>\n",
       "      <td>-77.618886</td>\n",
       "      <td>43.237209</td>\n",
       "      <td>222</td>\n",
       "      <td>Afton Street</td>\n",
       "      <td>NaN</td>\n",
       "      <td>Rochester</td>\n",
       "      <td>Monroe</td>\n",
       "      <td>NY</td>\n",
       "      <td>NaN</td>\n",
       "      <td>MONR049265</td>\n",
       "      <td>f66d324ff7ad33cc</td>\n",
       "      <td>231</td>\n",
       "      <td>Pritchard Avenue</td>\n",
       "      <td>Corning</td>\n",
       "      <td>NaN</td>\n",
       "    </tr>\n",
       "  </tbody>\n",
       "</table>\n",
       "</div>"
      ],
      "text/plain": [
       "  First_name Last_name                                  Email        LON  \\\n",
       "0    Brandon    Newman   brandon.newman@directdebitsample.com -77.716978   \n",
       "1    Dominic   Pullman  dominic.pullman@directdebitsample.com -77.603544   \n",
       "2     Oliver    Murray    oliver.murray@directdebitsample.com -76.495152   \n",
       "3    Rebecca    Tucker   rebecca.tucker@directdebitsample.com -77.650426   \n",
       "4      Boris  Metcalfe   boris.metcalfe@directdebitsample.com -77.618886   \n",
       "\n",
       "         LAT NUMBER            STREET     UNIT       CITY    DISTRICT REGION  \\\n",
       "0  42.723047   6135    West Lake Road      NaN  Groveland  Livingston     NY   \n",
       "1  42.364774   2258  County Route 70A      NaN    Fremont     Steuben     NY   \n",
       "2  42.455408    509       Lake Street  Unit E6     Ithaca    Tompkins     NY   \n",
       "3  43.212123      3  Bonesteel Circle   Unit 3     Greece      Monroe     NY   \n",
       "4  43.237209    222      Afton Street      NaN  Rochester      Monroe     NY   \n",
       "\n",
       "   POSTCODE          ID              HASH OFFICE_NUMBER        OFFICE_STREET  \\\n",
       "0       NaN  LIVI017568  b1632818c3836c3b           311  East Connell Street   \n",
       "1       NaN  STEU023552  ce11d7ab023c7fcc           179        Newman Street   \n",
       "2       NaN  TOMP038695  00089082814cdd76          9477  Foster Wheeler Road   \n",
       "3       NaN  MONR313161  b5f812a2285596b3          1140      Sullivan Street   \n",
       "4       NaN  MONR049265  f66d324ff7ad33cc           231     Pritchard Avenue   \n",
       "\n",
       "       OFFICE_CITY  OFFICE_POSTCODE  \n",
       "0            Olean              NaN  \n",
       "1          Concord              NaN  \n",
       "2  North Dansville              NaN  \n",
       "3           Elmira              NaN  \n",
       "4          Corning              NaN  "
      ]
     },
     "execution_count": 48,
     "metadata": {},
     "output_type": "execute_result"
    }
   ],
   "source": [
    "df_final_clean.head()"
   ]
  },
  {
   "cell_type": "code",
   "execution_count": 49,
   "metadata": {
    "collapsed": true,
    "deletable": true,
    "editable": true
   },
   "outputs": [],
   "source": [
    "ouput_loc = 'C:/Users/Jonathan/DirectDebit/data/'\n",
    "df_final_clean.to_csv(ouput_loc + 'direct_debit_clean.csv', sep=',')"
   ]
  }
 ],
 "metadata": {
  "kernelspec": {
   "display_name": "Python 3",
   "language": "python",
   "name": "python3"
  },
  "language_info": {
   "codemirror_mode": {
    "name": "ipython",
    "version": 3
   },
   "file_extension": ".py",
   "mimetype": "text/x-python",
   "name": "python",
   "nbconvert_exporter": "python",
   "pygments_lexer": "ipython3",
   "version": "3.6.0"
  }
 },
 "nbformat": 4,
 "nbformat_minor": 2
}
