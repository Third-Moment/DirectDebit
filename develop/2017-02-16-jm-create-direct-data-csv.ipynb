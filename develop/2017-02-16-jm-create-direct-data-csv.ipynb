{
 "cells": [
  {
   "cell_type": "markdown",
   "metadata": {
    "deletable": true,
    "editable": true
   },
   "source": [
    "Need to create a csv file of sample data to be used in direct debit map project\n",
    "Pulled only ny state address data from:\n",
    "https://openaddresses.io/\n",
    "\n",
    "I will take a random sample of this because it's too big to store.  Plus I want to make sure that the addresses are not all from the same area.\n",
    "\n",
    "Will also need to add some names.  Pulled names from a name generator here:\n",
    "http://homepage.net/name_generator/"
   ]
  },
  {
   "cell_type": "code",
   "execution_count": 50,
   "metadata": {
    "collapsed": true,
    "deletable": true,
    "editable": true
   },
   "outputs": [],
   "source": [
    "import pandas as pd\n",
    "import random"
   ]
  },
  {
   "cell_type": "markdown",
   "metadata": {
    "deletable": true,
    "editable": true
   },
   "source": [
    "# Address Processing"
   ]
  },
  {
   "cell_type": "code",
   "execution_count": 51,
   "metadata": {
    "collapsed": false,
    "deletable": true,
    "editable": true
   },
   "outputs": [],
   "source": [
    "addr_file_loc = 'C:/Users/Jonathan/DirectDebit/raw_data/'\n",
    "addr_file_path = addr_file_loc + 'statewide.csv'\n",
    "ouput_loc = 'C:/Users/Jonathan/DirectDebit/data/'\n",
    "\n",
    "n = sum(1 for line in open(addr_file_path)) - 1 #number of records in file (excludes header)\n",
    "s = 100\n",
    "skip = sorted(random.sample(range(1,n+1),n-s))\n",
    "df_addr = pd.read_csv(addr_file_path, skiprows=skip)"
   ]
  },
  {
   "cell_type": "code",
   "execution_count": 36,
   "metadata": {
    "collapsed": false,
    "deletable": true,
    "editable": true
   },
   "outputs": [],
   "source": [
    "df_addr.to_csv(ouput_loc + 'address_clean.csv', sep=',')"
   ]
  },
  {
   "cell_type": "code",
   "execution_count": 52,
   "metadata": {
    "collapsed": false,
    "deletable": true,
    "editable": true,
    "scrolled": true
   },
   "outputs": [
    {
     "data": {
      "text/html": [
       "<div>\n",
       "<table border=\"1\" class=\"dataframe\">\n",
       "  <thead>\n",
       "    <tr style=\"text-align: right;\">\n",
       "      <th></th>\n",
       "      <th>LON</th>\n",
       "      <th>LAT</th>\n",
       "      <th>NUMBER</th>\n",
       "      <th>STREET</th>\n",
       "      <th>UNIT</th>\n",
       "      <th>CITY</th>\n",
       "      <th>DISTRICT</th>\n",
       "      <th>REGION</th>\n",
       "      <th>POSTCODE</th>\n",
       "      <th>ID</th>\n",
       "      <th>HASH</th>\n",
       "    </tr>\n",
       "  </thead>\n",
       "  <tbody>\n",
       "    <tr>\n",
       "      <th>0</th>\n",
       "      <td>-78.963960</td>\n",
       "      <td>42.441394</td>\n",
       "      <td>11337</td>\n",
       "      <td>Dewey Road</td>\n",
       "      <td>NaN</td>\n",
       "      <td>Perrysburg</td>\n",
       "      <td>Cattaraugus</td>\n",
       "      <td>NY</td>\n",
       "      <td>NaN</td>\n",
       "      <td>CATT036895</td>\n",
       "      <td>e3b613190ea934d2</td>\n",
       "    </tr>\n",
       "    <tr>\n",
       "      <th>1</th>\n",
       "      <td>-78.252336</td>\n",
       "      <td>42.386628</td>\n",
       "      <td>8854</td>\n",
       "      <td>County Road 7E</td>\n",
       "      <td>NaN</td>\n",
       "      <td>Rushford</td>\n",
       "      <td>Allegany</td>\n",
       "      <td>NY</td>\n",
       "      <td>NaN</td>\n",
       "      <td>ALLE005555</td>\n",
       "      <td>88146015a1da33e6</td>\n",
       "    </tr>\n",
       "    <tr>\n",
       "      <th>2</th>\n",
       "      <td>-77.831374</td>\n",
       "      <td>42.559236</td>\n",
       "      <td>3467</td>\n",
       "      <td>Route 436</td>\n",
       "      <td>NaN</td>\n",
       "      <td>Ossian</td>\n",
       "      <td>Livingston</td>\n",
       "      <td>NY</td>\n",
       "      <td>NaN</td>\n",
       "      <td>LIVI008863</td>\n",
       "      <td>b2d5265bd565c8e1</td>\n",
       "    </tr>\n",
       "    <tr>\n",
       "      <th>3</th>\n",
       "      <td>-76.360721</td>\n",
       "      <td>42.367440</td>\n",
       "      <td>103</td>\n",
       "      <td>Grove School Road</td>\n",
       "      <td>NaN</td>\n",
       "      <td>Caroline</td>\n",
       "      <td>Tompkins</td>\n",
       "      <td>NY</td>\n",
       "      <td>NaN</td>\n",
       "      <td>TOMP012017</td>\n",
       "      <td>35107fb4aea327f6</td>\n",
       "    </tr>\n",
       "    <tr>\n",
       "      <th>4</th>\n",
       "      <td>-75.847634</td>\n",
       "      <td>42.929323</td>\n",
       "      <td>8</td>\n",
       "      <td>Fenner Street</td>\n",
       "      <td>Apartment 4</td>\n",
       "      <td>Cazenovia</td>\n",
       "      <td>Madison</td>\n",
       "      <td>NY</td>\n",
       "      <td>NaN</td>\n",
       "      <td>MADI033910</td>\n",
       "      <td>5a830dd90d716201</td>\n",
       "    </tr>\n",
       "  </tbody>\n",
       "</table>\n",
       "</div>"
      ],
      "text/plain": [
       "         LON        LAT NUMBER             STREET         UNIT        CITY  \\\n",
       "0 -78.963960  42.441394  11337         Dewey Road          NaN  Perrysburg   \n",
       "1 -78.252336  42.386628   8854     County Road 7E          NaN    Rushford   \n",
       "2 -77.831374  42.559236   3467          Route 436          NaN      Ossian   \n",
       "3 -76.360721  42.367440    103  Grove School Road          NaN    Caroline   \n",
       "4 -75.847634  42.929323      8      Fenner Street  Apartment 4   Cazenovia   \n",
       "\n",
       "      DISTRICT REGION  POSTCODE          ID              HASH  \n",
       "0  Cattaraugus     NY       NaN  CATT036895  e3b613190ea934d2  \n",
       "1     Allegany     NY       NaN  ALLE005555  88146015a1da33e6  \n",
       "2   Livingston     NY       NaN  LIVI008863  b2d5265bd565c8e1  \n",
       "3     Tompkins     NY       NaN  TOMP012017  35107fb4aea327f6  \n",
       "4      Madison     NY       NaN  MADI033910  5a830dd90d716201  "
      ]
     },
     "execution_count": 52,
     "metadata": {},
     "output_type": "execute_result"
    }
   ],
   "source": [
    "df_addr.head()"
   ]
  },
  {
   "cell_type": "markdown",
   "metadata": {
    "deletable": true,
    "editable": true
   },
   "source": [
    "# Name Processing"
   ]
  },
  {
   "cell_type": "code",
   "execution_count": 53,
   "metadata": {
    "collapsed": true,
    "deletable": true,
    "editable": true
   },
   "outputs": [],
   "source": [
    "name_file_loc = 'C:/Users/Jonathan/DirectDebit/data/'\n",
    "name_file_path = name_file_loc + 'names_clean.csv'"
   ]
  },
  {
   "cell_type": "code",
   "execution_count": 54,
   "metadata": {
    "collapsed": false,
    "deletable": true,
    "editable": true
   },
   "outputs": [],
   "source": [
    "df_name = pd.read_csv(name_file_path)"
   ]
  },
  {
   "cell_type": "code",
   "execution_count": 55,
   "metadata": {
    "collapsed": false,
    "deletable": true,
    "editable": true
   },
   "outputs": [
    {
     "data": {
      "text/html": [
       "<div>\n",
       "<table border=\"1\" class=\"dataframe\">\n",
       "  <thead>\n",
       "    <tr style=\"text-align: right;\">\n",
       "      <th></th>\n",
       "      <th>First_name</th>\n",
       "      <th>Last_name</th>\n",
       "      <th>Email</th>\n",
       "    </tr>\n",
       "  </thead>\n",
       "  <tbody>\n",
       "    <tr>\n",
       "      <th>0</th>\n",
       "      <td>Brandon</td>\n",
       "      <td>Newman</td>\n",
       "      <td>brandon.newman@directdebitsample.com</td>\n",
       "    </tr>\n",
       "    <tr>\n",
       "      <th>1</th>\n",
       "      <td>Dominic</td>\n",
       "      <td>Pullman</td>\n",
       "      <td>dominic.pullman@directdebitsample.com</td>\n",
       "    </tr>\n",
       "    <tr>\n",
       "      <th>2</th>\n",
       "      <td>Oliver</td>\n",
       "      <td>Murray</td>\n",
       "      <td>oliver.murray@directdebitsample.com</td>\n",
       "    </tr>\n",
       "    <tr>\n",
       "      <th>3</th>\n",
       "      <td>Rebecca</td>\n",
       "      <td>Tucker</td>\n",
       "      <td>rebecca.tucker@directdebitsample.com</td>\n",
       "    </tr>\n",
       "    <tr>\n",
       "      <th>4</th>\n",
       "      <td>Boris</td>\n",
       "      <td>Metcalfe</td>\n",
       "      <td>boris.metcalfe@directdebitsample.com</td>\n",
       "    </tr>\n",
       "  </tbody>\n",
       "</table>\n",
       "</div>"
      ],
      "text/plain": [
       "  First_name Last_name                                  Email\n",
       "0    Brandon    Newman   brandon.newman@directdebitsample.com\n",
       "1    Dominic   Pullman  dominic.pullman@directdebitsample.com\n",
       "2     Oliver    Murray    oliver.murray@directdebitsample.com\n",
       "3    Rebecca    Tucker   rebecca.tucker@directdebitsample.com\n",
       "4      Boris  Metcalfe   boris.metcalfe@directdebitsample.com"
      ]
     },
     "execution_count": 55,
     "metadata": {},
     "output_type": "execute_result"
    }
   ],
   "source": [
    "df_name.head()"
   ]
  },
  {
   "cell_type": "markdown",
   "metadata": {
    "deletable": true,
    "editable": true
   },
   "source": [
    "## Office location processing"
   ]
  },
  {
   "cell_type": "code",
   "execution_count": 56,
   "metadata": {
    "collapsed": false,
    "deletable": true,
    "editable": true
   },
   "outputs": [],
   "source": [
    "office_file_loc = 'C:/Users/Jonathan/DirectDebit/raw_data/'\n",
    "office_file_path = office_file_loc + 'statewide.csv'\n",
    "n = sum(1 for line in open(addr_file_path)) - 1 #number of records in file (excludes header)\n",
    "s = 100\n",
    "skip = sorted(random.sample(range(1,n+1),n-s))\n",
    "df_office = pd.read_csv(office_file_path, skiprows=skip)"
   ]
  },
  {
   "cell_type": "code",
   "execution_count": 57,
   "metadata": {
    "collapsed": false,
    "deletable": true,
    "editable": true
   },
   "outputs": [
    {
     "data": {
      "text/plain": [
       "['LON',\n",
       " 'LAT',\n",
       " 'NUMBER',\n",
       " 'STREET',\n",
       " 'UNIT',\n",
       " 'CITY',\n",
       " 'DISTRICT',\n",
       " 'REGION',\n",
       " 'POSTCODE',\n",
       " 'ID',\n",
       " 'HASH']"
      ]
     },
     "execution_count": 57,
     "metadata": {},
     "output_type": "execute_result"
    }
   ],
   "source": [
    "list(df_office)"
   ]
  },
  {
   "cell_type": "code",
   "execution_count": 58,
   "metadata": {
    "collapsed": false,
    "deletable": true,
    "editable": true
   },
   "outputs": [
    {
     "data": {
      "text/html": [
       "<div>\n",
       "<table border=\"1\" class=\"dataframe\">\n",
       "  <thead>\n",
       "    <tr style=\"text-align: right;\">\n",
       "      <th></th>\n",
       "      <th>OFFICE_NUMBER</th>\n",
       "      <th>OFFICE_STREET</th>\n",
       "      <th>OFFICE_CITY</th>\n",
       "      <th>OFFICE_REGION</th>\n",
       "      <th>OFFICE_POSTCODE</th>\n",
       "    </tr>\n",
       "  </thead>\n",
       "  <tbody>\n",
       "    <tr>\n",
       "      <th>0</th>\n",
       "      <td>366</td>\n",
       "      <td>West Main Street</td>\n",
       "      <td>Concord</td>\n",
       "      <td>NY</td>\n",
       "      <td>NaN</td>\n",
       "    </tr>\n",
       "    <tr>\n",
       "      <th>1</th>\n",
       "      <td>7327</td>\n",
       "      <td>Groveland Station Road</td>\n",
       "      <td>Groveland</td>\n",
       "      <td>NY</td>\n",
       "      <td>NaN</td>\n",
       "    </tr>\n",
       "    <tr>\n",
       "      <th>2</th>\n",
       "      <td>4</td>\n",
       "      <td>Ball Street</td>\n",
       "      <td>Barton</td>\n",
       "      <td>NY</td>\n",
       "      <td>NaN</td>\n",
       "    </tr>\n",
       "    <tr>\n",
       "      <th>3</th>\n",
       "      <td>28</td>\n",
       "      <td>Jackson Creek Road</td>\n",
       "      <td>Horseheads</td>\n",
       "      <td>NY</td>\n",
       "      <td>NaN</td>\n",
       "    </tr>\n",
       "    <tr>\n",
       "      <th>4</th>\n",
       "      <td>1718</td>\n",
       "      <td>Seneca Road</td>\n",
       "      <td>Lodi</td>\n",
       "      <td>NY</td>\n",
       "      <td>NaN</td>\n",
       "    </tr>\n",
       "  </tbody>\n",
       "</table>\n",
       "</div>"
      ],
      "text/plain": [
       "  OFFICE_NUMBER           OFFICE_STREET OFFICE_CITY OFFICE_REGION  \\\n",
       "0           366        West Main Street     Concord            NY   \n",
       "1          7327  Groveland Station Road   Groveland            NY   \n",
       "2             4             Ball Street      Barton            NY   \n",
       "3            28      Jackson Creek Road  Horseheads            NY   \n",
       "4          1718             Seneca Road        Lodi            NY   \n",
       "\n",
       "   OFFICE_POSTCODE  \n",
       "0              NaN  \n",
       "1              NaN  \n",
       "2              NaN  \n",
       "3              NaN  \n",
       "4              NaN  "
      ]
     },
     "execution_count": 58,
     "metadata": {},
     "output_type": "execute_result"
    }
   ],
   "source": [
    "df_office = df_office[[\"NUMBER\", \"STREET\", \"CITY\", \"REGION\", \"POSTCODE\"]]\n",
    "df_office.columns = [\"OFFICE_NUMBER\", \"OFFICE_STREET\", \"OFFICE_CITY\", \"OFFICE_REGION\", \"OFFICE_POSTCODE\"]\n",
    "df_office.head()"
   ]
  },
  {
   "cell_type": "markdown",
   "metadata": {
    "deletable": true,
    "editable": true
   },
   "source": [
    "# Combine names, addresses, and office locations and save to folder"
   ]
  },
  {
   "cell_type": "code",
   "execution_count": 59,
   "metadata": {
    "collapsed": true,
    "deletable": true,
    "editable": true
   },
   "outputs": [],
   "source": [
    "df_final_clean =pd.concat([df_name, df_addr, df_office], axis=1)"
   ]
  },
  {
   "cell_type": "code",
   "execution_count": 60,
   "metadata": {
    "collapsed": false,
    "deletable": true,
    "editable": true
   },
   "outputs": [
    {
     "data": {
      "text/html": [
       "<div>\n",
       "<table border=\"1\" class=\"dataframe\">\n",
       "  <thead>\n",
       "    <tr style=\"text-align: right;\">\n",
       "      <th></th>\n",
       "      <th>First_name</th>\n",
       "      <th>Last_name</th>\n",
       "      <th>Email</th>\n",
       "      <th>LON</th>\n",
       "      <th>LAT</th>\n",
       "      <th>NUMBER</th>\n",
       "      <th>STREET</th>\n",
       "      <th>UNIT</th>\n",
       "      <th>CITY</th>\n",
       "      <th>DISTRICT</th>\n",
       "      <th>REGION</th>\n",
       "      <th>POSTCODE</th>\n",
       "      <th>ID</th>\n",
       "      <th>HASH</th>\n",
       "      <th>OFFICE_NUMBER</th>\n",
       "      <th>OFFICE_STREET</th>\n",
       "      <th>OFFICE_CITY</th>\n",
       "      <th>OFFICE_REGION</th>\n",
       "      <th>OFFICE_POSTCODE</th>\n",
       "    </tr>\n",
       "  </thead>\n",
       "  <tbody>\n",
       "    <tr>\n",
       "      <th>0</th>\n",
       "      <td>Brandon</td>\n",
       "      <td>Newman</td>\n",
       "      <td>brandon.newman@directdebitsample.com</td>\n",
       "      <td>-78.963960</td>\n",
       "      <td>42.441394</td>\n",
       "      <td>11337</td>\n",
       "      <td>Dewey Road</td>\n",
       "      <td>NaN</td>\n",
       "      <td>Perrysburg</td>\n",
       "      <td>Cattaraugus</td>\n",
       "      <td>NY</td>\n",
       "      <td>NaN</td>\n",
       "      <td>CATT036895</td>\n",
       "      <td>e3b613190ea934d2</td>\n",
       "      <td>366</td>\n",
       "      <td>West Main Street</td>\n",
       "      <td>Concord</td>\n",
       "      <td>NY</td>\n",
       "      <td>NaN</td>\n",
       "    </tr>\n",
       "    <tr>\n",
       "      <th>1</th>\n",
       "      <td>Dominic</td>\n",
       "      <td>Pullman</td>\n",
       "      <td>dominic.pullman@directdebitsample.com</td>\n",
       "      <td>-78.252336</td>\n",
       "      <td>42.386628</td>\n",
       "      <td>8854</td>\n",
       "      <td>County Road 7E</td>\n",
       "      <td>NaN</td>\n",
       "      <td>Rushford</td>\n",
       "      <td>Allegany</td>\n",
       "      <td>NY</td>\n",
       "      <td>NaN</td>\n",
       "      <td>ALLE005555</td>\n",
       "      <td>88146015a1da33e6</td>\n",
       "      <td>7327</td>\n",
       "      <td>Groveland Station Road</td>\n",
       "      <td>Groveland</td>\n",
       "      <td>NY</td>\n",
       "      <td>NaN</td>\n",
       "    </tr>\n",
       "    <tr>\n",
       "      <th>2</th>\n",
       "      <td>Oliver</td>\n",
       "      <td>Murray</td>\n",
       "      <td>oliver.murray@directdebitsample.com</td>\n",
       "      <td>-77.831374</td>\n",
       "      <td>42.559236</td>\n",
       "      <td>3467</td>\n",
       "      <td>Route 436</td>\n",
       "      <td>NaN</td>\n",
       "      <td>Ossian</td>\n",
       "      <td>Livingston</td>\n",
       "      <td>NY</td>\n",
       "      <td>NaN</td>\n",
       "      <td>LIVI008863</td>\n",
       "      <td>b2d5265bd565c8e1</td>\n",
       "      <td>4</td>\n",
       "      <td>Ball Street</td>\n",
       "      <td>Barton</td>\n",
       "      <td>NY</td>\n",
       "      <td>NaN</td>\n",
       "    </tr>\n",
       "    <tr>\n",
       "      <th>3</th>\n",
       "      <td>Rebecca</td>\n",
       "      <td>Tucker</td>\n",
       "      <td>rebecca.tucker@directdebitsample.com</td>\n",
       "      <td>-76.360721</td>\n",
       "      <td>42.367440</td>\n",
       "      <td>103</td>\n",
       "      <td>Grove School Road</td>\n",
       "      <td>NaN</td>\n",
       "      <td>Caroline</td>\n",
       "      <td>Tompkins</td>\n",
       "      <td>NY</td>\n",
       "      <td>NaN</td>\n",
       "      <td>TOMP012017</td>\n",
       "      <td>35107fb4aea327f6</td>\n",
       "      <td>28</td>\n",
       "      <td>Jackson Creek Road</td>\n",
       "      <td>Horseheads</td>\n",
       "      <td>NY</td>\n",
       "      <td>NaN</td>\n",
       "    </tr>\n",
       "    <tr>\n",
       "      <th>4</th>\n",
       "      <td>Boris</td>\n",
       "      <td>Metcalfe</td>\n",
       "      <td>boris.metcalfe@directdebitsample.com</td>\n",
       "      <td>-75.847634</td>\n",
       "      <td>42.929323</td>\n",
       "      <td>8</td>\n",
       "      <td>Fenner Street</td>\n",
       "      <td>Apartment 4</td>\n",
       "      <td>Cazenovia</td>\n",
       "      <td>Madison</td>\n",
       "      <td>NY</td>\n",
       "      <td>NaN</td>\n",
       "      <td>MADI033910</td>\n",
       "      <td>5a830dd90d716201</td>\n",
       "      <td>1718</td>\n",
       "      <td>Seneca Road</td>\n",
       "      <td>Lodi</td>\n",
       "      <td>NY</td>\n",
       "      <td>NaN</td>\n",
       "    </tr>\n",
       "  </tbody>\n",
       "</table>\n",
       "</div>"
      ],
      "text/plain": [
       "  First_name Last_name                                  Email        LON  \\\n",
       "0    Brandon    Newman   brandon.newman@directdebitsample.com -78.963960   \n",
       "1    Dominic   Pullman  dominic.pullman@directdebitsample.com -78.252336   \n",
       "2     Oliver    Murray    oliver.murray@directdebitsample.com -77.831374   \n",
       "3    Rebecca    Tucker   rebecca.tucker@directdebitsample.com -76.360721   \n",
       "4      Boris  Metcalfe   boris.metcalfe@directdebitsample.com -75.847634   \n",
       "\n",
       "         LAT NUMBER             STREET         UNIT        CITY     DISTRICT  \\\n",
       "0  42.441394  11337         Dewey Road          NaN  Perrysburg  Cattaraugus   \n",
       "1  42.386628   8854     County Road 7E          NaN    Rushford     Allegany   \n",
       "2  42.559236   3467          Route 436          NaN      Ossian   Livingston   \n",
       "3  42.367440    103  Grove School Road          NaN    Caroline     Tompkins   \n",
       "4  42.929323      8      Fenner Street  Apartment 4   Cazenovia      Madison   \n",
       "\n",
       "  REGION  POSTCODE          ID              HASH OFFICE_NUMBER  \\\n",
       "0     NY       NaN  CATT036895  e3b613190ea934d2           366   \n",
       "1     NY       NaN  ALLE005555  88146015a1da33e6          7327   \n",
       "2     NY       NaN  LIVI008863  b2d5265bd565c8e1             4   \n",
       "3     NY       NaN  TOMP012017  35107fb4aea327f6            28   \n",
       "4     NY       NaN  MADI033910  5a830dd90d716201          1718   \n",
       "\n",
       "            OFFICE_STREET OFFICE_CITY OFFICE_REGION  OFFICE_POSTCODE  \n",
       "0        West Main Street     Concord            NY              NaN  \n",
       "1  Groveland Station Road   Groveland            NY              NaN  \n",
       "2             Ball Street      Barton            NY              NaN  \n",
       "3      Jackson Creek Road  Horseheads            NY              NaN  \n",
       "4             Seneca Road        Lodi            NY              NaN  "
      ]
     },
     "execution_count": 60,
     "metadata": {},
     "output_type": "execute_result"
    }
   ],
   "source": [
    "df_final_clean.head()"
   ]
  },
  {
   "cell_type": "code",
   "execution_count": 64,
   "metadata": {
    "collapsed": false,
    "deletable": true,
    "editable": true
   },
   "outputs": [],
   "source": [
    "ouput_loc = 'C:/Users/Jonathan/DirectDebit/data/'\n",
    "df_final_clean.to_csv(ouput_loc + 'direct_debit_clean.csv', sep=',')"
   ]
  }
 ],
 "metadata": {
  "kernelspec": {
   "display_name": "Python 3",
   "language": "python",
   "name": "python3"
  },
  "language_info": {
   "codemirror_mode": {
    "name": "ipython",
    "version": 3
   },
   "file_extension": ".py",
   "mimetype": "text/x-python",
   "name": "python",
   "nbconvert_exporter": "python",
   "pygments_lexer": "ipython3",
   "version": "3.6.0"
  }
 },
 "nbformat": 4,
 "nbformat_minor": 2
}
