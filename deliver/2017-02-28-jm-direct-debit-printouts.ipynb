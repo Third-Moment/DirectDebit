{
 "cells": [
  {
   "cell_type": "markdown",
   "metadata": {},
   "source": [
    "## Direct debit requires that a list of banking services be provided to employees base on:\n",
    "* Thier place of employment\n",
    "* Place of residence\n",
    "\n",
    "This is an effort to automate the delivery of thjat information. For each employee, this script should:\n",
    "1. Provide a list of banking services located within 1 (radial?) mile of their home address\n",
    "2. Provide a map with the location of banking services coresponding to the list above (ennumerated?)\n",
    "3. Provide a list of banking services located within 1 (radial?) mile of their work address\n",
    "4. Provide a map with the location of banking services coresponding to the list above (ennumerated?)\n",
    "\n",
    "For the purposes of this proof of concept, banking services will be defined to include:\n",
    "* Bank branches\n",
    "* ATM machines\n",
    "\n",
    "Assumptions: \n",
    "1. Data will be provided in csv format\n",
    "    * to include:\n",
    "        * Name (First & Last)\n",
    "        * Home Address\n",
    "        * Office location & Address\n",
    "        "
   ]
  },
  {
   "cell_type": "markdown",
   "metadata": {},
   "source": [
    "## Set imports"
   ]
  },
  {
   "cell_type": "code",
   "execution_count": 138,
   "metadata": {
    "collapsed": true
   },
   "outputs": [],
   "source": [
    "#Imports first\n",
    "\n",
    "import os\n",
    "import matplotlib.pyplot as plt\n",
    "import requests\n",
    "import pandas as pd\n",
    "from googlemaps import googlemaps\n",
    "import json\n",
    "import PIL.Image\n",
    "import PIL.ImageOps\n",
    "from io import BytesIO\n",
    "\n",
    "#For reportlab pdfs\n",
    "from reportlab.lib.units import inch\n",
    "from reportlab.pdfgen import canvas\n",
    "from reportlab.lib.pagesizes  import letter\n",
    "from reportlab.lib.pagesizes  import landscape\n",
    "from reportlab.platypus import Image, Table\n",
    "import time"
   ]
  },
  {
   "cell_type": "markdown",
   "metadata": {},
   "source": [
    "#### Import data"
   ]
  },
  {
   "cell_type": "code",
   "execution_count": 91,
   "metadata": {
    "collapsed": true
   },
   "outputs": [],
   "source": [
    "# SET file and path locations\n",
    "file_loc = 'C:/Users/Jonathan/DirectDebit/data/'\n",
    "file_path = file_loc + 'direct_debit_clean.csv'\n",
    "ouput_loc = 'C:/Users/Jonathan/DirectDebit/deliver/'\n",
    "pdf_file_name = 'direct_debit_poc.pdf'\n",
    "apikey_path = \"C:/Users/Jonathan/Google Drive/\"\n"
   ]
  },
  {
   "cell_type": "code",
   "execution_count": 16,
   "metadata": {
    "collapsed": false
   },
   "outputs": [
    {
     "data": {
      "text/html": [
       "<div>\n",
       "<table border=\"1\" class=\"dataframe\">\n",
       "  <thead>\n",
       "    <tr style=\"text-align: right;\">\n",
       "      <th></th>\n",
       "      <th>Unnamed: 0</th>\n",
       "      <th>First_name</th>\n",
       "      <th>Last_name</th>\n",
       "      <th>Email</th>\n",
       "      <th>LON</th>\n",
       "      <th>LAT</th>\n",
       "      <th>NUMBER</th>\n",
       "      <th>STREET</th>\n",
       "      <th>UNIT</th>\n",
       "      <th>CITY</th>\n",
       "      <th>DISTRICT</th>\n",
       "      <th>REGION</th>\n",
       "      <th>POSTCODE</th>\n",
       "      <th>ID</th>\n",
       "      <th>HASH</th>\n",
       "      <th>OFFICE_NUMBER</th>\n",
       "      <th>OFFICE_STREET</th>\n",
       "      <th>OFFICE_CITY</th>\n",
       "      <th>OFFICE_REGION</th>\n",
       "      <th>OFFICE_POSTCODE</th>\n",
       "    </tr>\n",
       "  </thead>\n",
       "  <tbody>\n",
       "    <tr>\n",
       "      <th>0</th>\n",
       "      <td>0</td>\n",
       "      <td>Brandon</td>\n",
       "      <td>Newman</td>\n",
       "      <td>brandon.newman@directdebitsample.com</td>\n",
       "      <td>-78.963960</td>\n",
       "      <td>42.441394</td>\n",
       "      <td>11337</td>\n",
       "      <td>Dewey Road</td>\n",
       "      <td>NaN</td>\n",
       "      <td>Perrysburg</td>\n",
       "      <td>Cattaraugus</td>\n",
       "      <td>NY</td>\n",
       "      <td>NaN</td>\n",
       "      <td>CATT036895</td>\n",
       "      <td>e3b613190ea934d2</td>\n",
       "      <td>366</td>\n",
       "      <td>West Main Street</td>\n",
       "      <td>Concord</td>\n",
       "      <td>NY</td>\n",
       "      <td>NaN</td>\n",
       "    </tr>\n",
       "    <tr>\n",
       "      <th>1</th>\n",
       "      <td>1</td>\n",
       "      <td>Dominic</td>\n",
       "      <td>Pullman</td>\n",
       "      <td>dominic.pullman@directdebitsample.com</td>\n",
       "      <td>-78.252336</td>\n",
       "      <td>42.386628</td>\n",
       "      <td>8854</td>\n",
       "      <td>County Road 7E</td>\n",
       "      <td>NaN</td>\n",
       "      <td>Rushford</td>\n",
       "      <td>Allegany</td>\n",
       "      <td>NY</td>\n",
       "      <td>NaN</td>\n",
       "      <td>ALLE005555</td>\n",
       "      <td>88146015a1da33e6</td>\n",
       "      <td>7327</td>\n",
       "      <td>Groveland Station Road</td>\n",
       "      <td>Groveland</td>\n",
       "      <td>NY</td>\n",
       "      <td>NaN</td>\n",
       "    </tr>\n",
       "    <tr>\n",
       "      <th>2</th>\n",
       "      <td>2</td>\n",
       "      <td>Oliver</td>\n",
       "      <td>Murray</td>\n",
       "      <td>oliver.murray@directdebitsample.com</td>\n",
       "      <td>-77.831374</td>\n",
       "      <td>42.559236</td>\n",
       "      <td>3467</td>\n",
       "      <td>Route 436</td>\n",
       "      <td>NaN</td>\n",
       "      <td>Ossian</td>\n",
       "      <td>Livingston</td>\n",
       "      <td>NY</td>\n",
       "      <td>NaN</td>\n",
       "      <td>LIVI008863</td>\n",
       "      <td>b2d5265bd565c8e1</td>\n",
       "      <td>4</td>\n",
       "      <td>Ball Street</td>\n",
       "      <td>Barton</td>\n",
       "      <td>NY</td>\n",
       "      <td>NaN</td>\n",
       "    </tr>\n",
       "    <tr>\n",
       "      <th>3</th>\n",
       "      <td>3</td>\n",
       "      <td>Rebecca</td>\n",
       "      <td>Tucker</td>\n",
       "      <td>rebecca.tucker@directdebitsample.com</td>\n",
       "      <td>-76.360721</td>\n",
       "      <td>42.367440</td>\n",
       "      <td>103</td>\n",
       "      <td>Grove School Road</td>\n",
       "      <td>NaN</td>\n",
       "      <td>Caroline</td>\n",
       "      <td>Tompkins</td>\n",
       "      <td>NY</td>\n",
       "      <td>NaN</td>\n",
       "      <td>TOMP012017</td>\n",
       "      <td>35107fb4aea327f6</td>\n",
       "      <td>28</td>\n",
       "      <td>Jackson Creek Road</td>\n",
       "      <td>Horseheads</td>\n",
       "      <td>NY</td>\n",
       "      <td>NaN</td>\n",
       "    </tr>\n",
       "    <tr>\n",
       "      <th>4</th>\n",
       "      <td>4</td>\n",
       "      <td>Boris</td>\n",
       "      <td>Metcalfe</td>\n",
       "      <td>boris.metcalfe@directdebitsample.com</td>\n",
       "      <td>-75.847634</td>\n",
       "      <td>42.929323</td>\n",
       "      <td>8</td>\n",
       "      <td>Fenner Street</td>\n",
       "      <td>Apartment 4</td>\n",
       "      <td>Cazenovia</td>\n",
       "      <td>Madison</td>\n",
       "      <td>NY</td>\n",
       "      <td>NaN</td>\n",
       "      <td>MADI033910</td>\n",
       "      <td>5a830dd90d716201</td>\n",
       "      <td>1718</td>\n",
       "      <td>Seneca Road</td>\n",
       "      <td>Lodi</td>\n",
       "      <td>NY</td>\n",
       "      <td>NaN</td>\n",
       "    </tr>\n",
       "  </tbody>\n",
       "</table>\n",
       "</div>"
      ],
      "text/plain": [
       "   Unnamed: 0 First_name Last_name                                  Email  \\\n",
       "0           0    Brandon    Newman   brandon.newman@directdebitsample.com   \n",
       "1           1    Dominic   Pullman  dominic.pullman@directdebitsample.com   \n",
       "2           2     Oliver    Murray    oliver.murray@directdebitsample.com   \n",
       "3           3    Rebecca    Tucker   rebecca.tucker@directdebitsample.com   \n",
       "4           4      Boris  Metcalfe   boris.metcalfe@directdebitsample.com   \n",
       "\n",
       "         LON        LAT NUMBER             STREET         UNIT        CITY  \\\n",
       "0 -78.963960  42.441394  11337         Dewey Road          NaN  Perrysburg   \n",
       "1 -78.252336  42.386628   8854     County Road 7E          NaN    Rushford   \n",
       "2 -77.831374  42.559236   3467          Route 436          NaN      Ossian   \n",
       "3 -76.360721  42.367440    103  Grove School Road          NaN    Caroline   \n",
       "4 -75.847634  42.929323      8      Fenner Street  Apartment 4   Cazenovia   \n",
       "\n",
       "      DISTRICT REGION  POSTCODE          ID              HASH OFFICE_NUMBER  \\\n",
       "0  Cattaraugus     NY       NaN  CATT036895  e3b613190ea934d2           366   \n",
       "1     Allegany     NY       NaN  ALLE005555  88146015a1da33e6          7327   \n",
       "2   Livingston     NY       NaN  LIVI008863  b2d5265bd565c8e1             4   \n",
       "3     Tompkins     NY       NaN  TOMP012017  35107fb4aea327f6            28   \n",
       "4      Madison     NY       NaN  MADI033910  5a830dd90d716201          1718   \n",
       "\n",
       "            OFFICE_STREET OFFICE_CITY OFFICE_REGION  OFFICE_POSTCODE  \n",
       "0        West Main Street     Concord            NY              NaN  \n",
       "1  Groveland Station Road   Groveland            NY              NaN  \n",
       "2             Ball Street      Barton            NY              NaN  \n",
       "3      Jackson Creek Road  Horseheads            NY              NaN  \n",
       "4             Seneca Road        Lodi            NY              NaN  "
      ]
     },
     "execution_count": 16,
     "metadata": {},
     "output_type": "execute_result"
    }
   ],
   "source": [
    "# Import data and check it!\n",
    "df_clean = pd.read_csv(file_path)\n",
    "df_clean.head()"
   ]
  },
  {
   "cell_type": "code",
   "execution_count": 144,
   "metadata": {
    "collapsed": false
   },
   "outputs": [],
   "source": [
    "# Make the data frame smaller -- just to save time\n",
    "\n",
    "df_clean = df_clean[0:10]"
   ]
  },
  {
   "cell_type": "markdown",
   "metadata": {},
   "source": [
    "##### Get API key -- use your own here!"
   ]
  },
  {
   "cell_type": "code",
   "execution_count": 17,
   "metadata": {
    "collapsed": true
   },
   "outputs": [],
   "source": [
    "# get api key from file - no, github, you can't have my api key\n",
    "apikey_path = \"C:/Users/Jonathan/Google Drive/\"\n",
    "with open(apikey_path + 'gm_config.config', 'r') as f:\n",
    "    api_key = f.readline()\n",
    "    api_key = api_key.strip()\n"
   ]
  },
  {
   "cell_type": "markdown",
   "metadata": {},
   "source": [
    "#####  Function to create office address"
   ]
  },
  {
   "cell_type": "code",
   "execution_count": 50,
   "metadata": {
    "collapsed": true
   },
   "outputs": [],
   "source": [
    "# Define function for getting all the needed employee details\n",
    "\n",
    "def create_employee_home_address(row): \n",
    "    home_address = str(row['NUMBER']) + \" \" + row['STREET'] + \" \" + row['CITY'] + \" \" + row['REGION']\n",
    "    return home_address\n",
    "\n",
    "def create_employee_office_address(row): \n",
    "    office_address = str(row['OFFICE_NUMBER']) + \" \" + row['OFFICE_STREET'] + \" \" + row['OFFICE_CITY'] + \" \" + row['OFFICE_REGION']\n",
    "    return office_address"
   ]
  },
  {
   "cell_type": "code",
   "execution_count": 53,
   "metadata": {
    "collapsed": false
   },
   "outputs": [
    {
     "name": "stdout",
     "output_type": "stream",
     "text": [
      "['2 Shetland Circle Woodbury NY', '4 Howland Street Chester NY']\n"
     ]
    }
   ],
   "source": [
    "# test create_employee_home_address function\n",
    "for index, row in df_clean.iterrows():\n",
    "    test_home_address = create_employee_home_address(row)\n",
    "    test_office_address = create_employee_office_address(row)\n",
    "print([test_home_address, test_office_address])"
   ]
  },
  {
   "cell_type": "markdown",
   "metadata": {},
   "source": [
    "##### Function to get lat-lon"
   ]
  },
  {
   "cell_type": "code",
   "execution_count": 54,
   "metadata": {
    "collapsed": true
   },
   "outputs": [],
   "source": [
    "# Function to get lat-long as a dictionary from googlemaps api\n",
    "\n",
    "def convert_address_to_lat_lon(address, api_key):\n",
    "    gmaps = googlemaps.Client(key=api_key)\n",
    "    lat = gmaps.geocode(address)[0]\n",
    "    return (lat['geometry']['location']['lat'], lat['geometry']['location']['lng'])\n",
    "    "
   ]
  },
  {
   "cell_type": "code",
   "execution_count": 65,
   "metadata": {
    "collapsed": false
   },
   "outputs": [
    {
     "name": "stdout",
     "output_type": "stream",
     "text": [
      "(41.36238520000001, -74.271198)\n"
     ]
    }
   ],
   "source": [
    "# Test convert_address_to_lat_lon function\n",
    "test_lat_lon = convert_address_to_lat_lon(test_office_address, api_key)\n",
    "print(test_lat_lon)"
   ]
  },
  {
   "cell_type": "code",
   "execution_count": null,
   "metadata": {
    "collapsed": false
   },
   "outputs": [],
   "source": []
  },
  {
   "cell_type": "markdown",
   "metadata": {},
   "source": [
    "#####  Create function to return banking service locations within 1 mile (1600 meters) of home address; limited to top ten results"
   ]
  },
  {
   "cell_type": "code",
   "execution_count": 104,
   "metadata": {
    "collapsed": false
   },
   "outputs": [],
   "source": [
    "# Define function for getting banking services near home address\n",
    "\n",
    "def find_banking_services(query, location, bank_type, radius, api_key):\n",
    "    gmaps = googlemaps.Client(key=api_key)\n",
    "    banking_places = gmaps.places(query, location=location, type=bank_type, radius=radius)\n",
    "    locations =[]\n",
    "    for bank in banking_places['results'][0:9]:\n",
    "        locations.append([bank['name'], bank['formatted_address']])\n",
    "    return locations\n"
   ]
  },
  {
   "cell_type": "code",
   "execution_count": 69,
   "metadata": {
    "collapsed": false
   },
   "outputs": [
    {
     "data": {
      "text/plain": [
       "[['Cardtronics ATM', '48 Brookside Ave, Chester, NY 10918, United States'],\n",
       " ['Cardtronics ATM', '38 Brookside Ave, Chester, NY 10918, United States'],\n",
       " ['Citizens Bank', '38 Brookside Ave, Chester, NY 10918, United States'],\n",
       " ['Citizens Bank', '68 Brookside Ave, Chester, NY 10918, United States'],\n",
       " ['TD Bank', '78 Brookside Ave #101, Chester, NY 10918, United States'],\n",
       " ['ATM (Key Bank)', '135 Main St, Chester, NY 10918, United States'],\n",
       " ['ATM (Key Bank)', '74 Brookside Ave, Chester, NY 10918, United States'],\n",
       " ['KeyBank', '74 Brookside Ave, Chester, NY 10918, United States'],\n",
       " ['Keybank, National Association', 'NY-17M, Chester, NY 10918, United States']]"
      ]
     },
     "execution_count": 69,
     "metadata": {},
     "output_type": "execute_result"
    }
   ],
   "source": [
    "# Test find_banking_services \n",
    "\n",
    "query = 'bank'\n",
    "location = test_lat_lon  #home address reference from above\n",
    "bank_type = 'atm'\n",
    "radius = 1600\n",
    "\n",
    "test_local_banking_services = find_banking_services(query, location, bank_type, radius)\n",
    "test_local_banking_services"
   ]
  },
  {
   "cell_type": "markdown",
   "metadata": {},
   "source": [
    "#### Create function to return map markers to be plotted"
   ]
  },
  {
   "cell_type": "code",
   "execution_count": 119,
   "metadata": {
    "collapsed": true
   },
   "outputs": [],
   "source": [
    "# function for converting banking services near an address to a list of markers to be plotted\n",
    "def create_map_markers(marker_address_list):\n",
    "    s = \"|\"\n",
    "    return s.join(marker_address_list)\n"
   ]
  },
  {
   "cell_type": "code",
   "execution_count": 120,
   "metadata": {
    "collapsed": false
   },
   "outputs": [
    {
     "data": {
      "text/plain": [
       "'48 Brookside Ave, Chester, NY 10918, United States|38 Brookside Ave, Chester, NY 10918, United States|38 Brookside Ave, Chester, NY 10918, United States|68 Brookside Ave, Chester, NY 10918, United States|78 Brookside Ave #101, Chester, NY 10918, United States|135 Main St, Chester, NY 10918, United States|74 Brookside Ave, Chester, NY 10918, United States|74 Brookside Ave, Chester, NY 10918, United States|NY-17M, Chester, NY 10918, United States'"
      ]
     },
     "execution_count": 120,
     "metadata": {},
     "output_type": "execute_result"
    }
   ],
   "source": [
    "# Test create_map_markers\n",
    "\n",
    "test_create_map_markers = create_map_markers([bank[1] for bank in test_local_banking_services])\n",
    "test_create_map_markers\n"
   ]
  },
  {
   "cell_type": "code",
   "execution_count": 121,
   "metadata": {
    "collapsed": false,
    "scrolled": true
   },
   "outputs": [
    {
     "data": {
      "text/plain": [
       "'48 Brookside Ave, Chester, NY 10918, United States|38 Brookside Ave, Chester, NY 10918, United States|38 Brookside Ave, Chester, NY 10918, United States|68 Brookside Ave, Chester, NY 10918, United States|78 Brookside Ave #101, Chester, NY 10918, United States|135 Main St, Chester, NY 10918, United States|74 Brookside Ave, Chester, NY 10918, United States|74 Brookside Ave, Chester, NY 10918, United States|NY-17M, Chester, NY 10918, United States'"
      ]
     },
     "execution_count": 121,
     "metadata": {},
     "output_type": "execute_result"
    }
   ],
   "source": [
    "create_map_markers([bank[1] for bank in test_local_banking_services])"
   ]
  },
  {
   "cell_type": "markdown",
   "metadata": {},
   "source": [
    "#####  Create function to return google map as png from banking services near address"
   ]
  },
  {
   "cell_type": "code",
   "execution_count": 180,
   "metadata": {
    "collapsed": true
   },
   "outputs": [],
   "source": [
    "# Define function that takes a list of markers and outputs a formatted map\n",
    "\n",
    "def create_map_with_markers(marker_input, api_key):\n",
    "    payload = {'size': '400x400', \n",
    "           'maptype': 'roadmap',\n",
    "           'markers': marker_input,\n",
    "               'key':api_key}\n",
    "    r = requests.get('https://maps.googleapis.com/maps/api/staticmap?', params=payload)\n",
    "    i = PIL.Image.open(BytesIO(r.content))\n",
    "    converted_image = i.convert(\"RGBA\")\n",
    "    new_img = PIL.ImageOps.expand(converted_image,border=5,fill='black')\n",
    "    new_img.save('C:/Users/Jonathan/DirectDebit/figures/map_image.png')\n",
    "    path = 'C:/Users/Jonathan/DirectDebit/figures/map_image.png'\n",
    "    return path\n",
    "\n"
   ]
  },
  {
   "cell_type": "code",
   "execution_count": 179,
   "metadata": {
    "collapsed": false
   },
   "outputs": [
    {
     "data": {
      "image/png": "[encoded data removed]",
      "text/plain": [
       "<PIL.Image.Image image mode=RGBA size=410x410 at 0x24EA7B8C7F0>"
      ]
     },
     "execution_count": 179,
     "metadata": {},
     "output_type": "execute_result"
    }
   ],
   "source": [
    "# test create_map_with_markers function\n",
    "\n",
    "test_create_map_with_markers = create_map_with_markers(test_create_map_markers, api_key)\n",
    "test_create_map_with_markers\n"
   ]
  },
  {
   "cell_type": "markdown",
   "metadata": {},
   "source": []
  },
  {
   "cell_type": "markdown",
   "metadata": {},
   "source": []
  },
  {
   "cell_type": "markdown",
   "metadata": {},
   "source": [
    "## Generate PDFs based on bank locations and maps"
   ]
  },
  {
   "cell_type": "code",
   "execution_count": 164,
   "metadata": {
    "collapsed": true
   },
   "outputs": [],
   "source": [
    "\n",
    "#  Creates an individual pdf for specific employee\n",
    "def generate_employee_handout(name, home_address, office_address, home_map, office_map, canvas):\n",
    "    # Add Generic Company logo for the lolz\n",
    "    company_logo = \"C:/Users/Jonathan/DirectDebit/figures/generic-logo-hi.png\"\n",
    "    canvas.drawImage(company_logo, 15, 750, width=100, height=30)\n",
    "    # header text\n",
    "    canvas.setFont(\"Helvetica-Bold\", 20, leading=None)\n",
    "    canvas.drawCentredString(380, 755, \"Direct Debit Banking Services Locations\")\n",
    "\n",
    "    # Add name\n",
    "    canvas.setFont(\"Helvetica-Bold\", 20, leading=None)\n",
    "    canvas.drawString(25, 700, \"Name: \" + name)\n",
    "\n",
    "    # add office details and map image\n",
    "    canvas.setFont(\"Helvetica-Bold\", 16, leading=None)\n",
    "    canvas.drawString(25, 630, \"Office: \" + office_address)\n",
    "    canvas.drawImage(office_map, 25, 425, width=200, height=200)\n",
    "\n",
    "    # add home details and map image\n",
    "    canvas.setFont(\"Helvetica-Bold\", 16, leading=None)\n",
    "    canvas.drawString(25, 365, \"Home: \" + home_address)\n",
    "    canvas.drawImage(home_map, 25, 160, width=200, height=200)\n",
    "\n",
    "    # add footer with time\n",
    "    formatted_time = time.ctime()\n",
    "    canvas.setFont(\"Helvetica\", 10, leading=None)\n",
    "    canvas.drawCentredString(520, 15, formatted_time)\n",
    "\n",
    "    # store pdf\n",
    "    canvas.showPage()\n",
    "    print(\"PDF completed\")\n"
   ]
  },
  {
   "cell_type": "markdown",
   "metadata": {},
   "source": [
    "## Put it all together"
   ]
  },
  {
   "cell_type": "code",
   "execution_count": 169,
   "metadata": {
    "collapsed": false
   },
   "outputs": [],
   "source": [
    "pdf_file_name\n",
    "# function that takes dataframe and produces pdf\n",
    "def generate_pdf(data_file, pdf_file_name, api_key):\n",
    "    c = canvas.Canvas(pdf_file_name, pagesize=letter)\n",
    "    for index, row in data_file.iterrows():\n",
    "        name = row['First_name'] + \" \" + row['Last_name']\n",
    "        #print(name)\n",
    "        #Create home details and map\n",
    "        get_home_address = create_employee_home_address(row)\n",
    "        get_home_lat_lon = convert_address_to_lat_lon(get_home_address, api_key)\n",
    "        get_home_banking_services = find_banking_services(query='banking services', location=get_home_lat_lon, \\\n",
    "                                                          bank_type='atm', radius='1600', api_key=api_key)\n",
    "        get_home_markers = create_map_markers([bank[1] for bank in get_home_banking_services])\n",
    "        get_home_map = create_map_with_markers(get_home_markers, api_key)\n",
    "\n",
    "        #Create home details and map\n",
    "        get_office_address = create_employee_office_address(row)\n",
    "        get_office_lat_lon = convert_address_to_lat_lon(get_office_address, api_key)\n",
    "        get_office_banking_services = find_banking_services(query='banking services', location=get_office_lat_lon, \\\n",
    "                                                          bank_type='atm', radius='1600', api_key=api_key)\n",
    "        get_office_markers = create_map_markers([bank[1] for bank in get_office_banking_services])\n",
    "        get_office_map = create_map_with_markers(get_office_markers, api_key)\n",
    "        generate_employee_handout(name=name, home_address=get_home_address, office_address=get_office_address, \\\n",
    "                                  home_map=get_home_map, office_map=get_office_map, canvas=c)\n",
    "    c.save()\n",
    "\n"
   ]
  },
  {
   "cell_type": "code",
   "execution_count": 170,
   "metadata": {
    "collapsed": false
   },
   "outputs": [
    {
     "name": "stdout",
     "output_type": "stream",
     "text": [
      "PDF completed\n",
      "PDF completed\n",
      "PDF completed\n",
      "PDF completed\n",
      "PDF completed\n",
      "PDF completed\n",
      "PDF completed\n",
      "PDF completed\n",
      "PDF completed\n",
      "PDF completed\n"
     ]
    }
   ],
   "source": [
    "generate_pdf(df_clean, pdf_file_name,api_key)"
   ]
  },
  {
   "cell_type": "code",
   "execution_count": null,
   "metadata": {
    "collapsed": true
   },
   "outputs": [],
   "source": []
  },
  {
   "cell_type": "code",
   "execution_count": null,
   "metadata": {
    "collapsed": true
   },
   "outputs": [],
   "source": []
  },
  {
   "cell_type": "code",
   "execution_count": null,
   "metadata": {
    "collapsed": true
   },
   "outputs": [],
   "source": []
  },
  {
   "cell_type": "code",
   "execution_count": null,
   "metadata": {
    "collapsed": true
   },
   "outputs": [],
   "source": []
  },
  {
   "cell_type": "code",
   "execution_count": null,
   "metadata": {
    "collapsed": true
   },
   "outputs": [],
   "source": []
  }
 ],
 "metadata": {
  "kernelspec": {
   "display_name": "Python 3",
   "language": "python",
   "name": "python3"
  },
  "language_info": {
   "codemirror_mode": {
    "name": "ipython",
    "version": 3
   },
   "file_extension": ".py",
   "mimetype": "text/x-python",
   "name": "python",
   "nbconvert_exporter": "python",
   "pygments_lexer": "ipython3",
   "version": "3.6.0"
  }
 },
 "nbformat": 4,
 "nbformat_minor": 2
}
